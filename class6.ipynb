{
  "nbformat": 4,
  "nbformat_minor": 0,
  "metadata": {
    "colab": {
      "name": "class6.ipynb",
      "provenance": [],
      "authorship_tag": "ABX9TyPKvOYxLW5ek+HYr34SuVra",
      "include_colab_link": true
    },
    "kernelspec": {
      "name": "python3",
      "display_name": "Python 3"
    },
    "language_info": {
      "name": "python"
    }
  },
  "cells": [
    {
      "cell_type": "markdown",
      "metadata": {
        "id": "view-in-github",
        "colab_type": "text"
      },
      "source": [
        "<a href=\"https://colab.research.google.com/github/h9379203/inflearn_python_basic/blob/main/class6.ipynb\" target=\"_parent\"><img src=\"https://colab.research.google.com/assets/colab-badge.svg\" alt=\"Open In Colab\"/></a>"
      ]
    },
    {
      "cell_type": "markdown",
      "source": [
        "# Quiz) 표준 체중을 구하는 프로그램을 작성하시오\n",
        "\n",
        "* 표준 체중 : 각 개인의 키에 적당한 체중\n",
        "\n",
        "(성별에 따른 공식) <br>\n",
        " 남자 : 키(m) x 키(m) x 22 <br>\n",
        " 여자 : 키(m) x 키(m) x 21 <br>\n",
        "\n",
        "조건1 : 표준 체중은 별도의 함수 내에서 계산 <br>\n",
        " - 함수명 : std_weight <br>\n",
        " - 전달값 : 키(height), 성별(gender) <br>\n",
        "\n",
        "조건2 : 표준 체중은 소수점 둘째자리까지 표시 <br>\n",
        "\n",
        "(출력 예제) <br>\n",
        "키 <b>175cm</b> 남자의 표준 체중은 67.<b>38Kg<b> 입니다.\n"
      ],
      "metadata": {
        "id": "svSP6pgB4Ukx"
      }
    },
    {
      "cell_type": "code",
      "execution_count": 6,
      "metadata": {
        "colab": {
          "base_uri": "https://localhost:8080/"
        },
        "id": "aoMcxd0MrAbl",
        "outputId": "a2af95a5-3d02-4161-cdc2-726d99b8546a"
      },
      "outputs": [
        {
          "output_type": "stream",
          "name": "stdout",
          "text": [
            "키 1.75cm 남자의 표준 체중은 67.38kg 입니다.\n"
          ]
        }
      ],
      "source": [
        "def std_weight(height, gender):\n",
        "  if gender == \"남자\":\n",
        "    return round(height * height * 22, 2)\n",
        "  else:\n",
        "    return round(height * height * 21, 2)\n",
        "\n",
        "height = 1.75\n",
        "print(\"키 {0}cm {1}의 표준 체중은 {2}kg 입니다.\".format(height, \"남자\", std_weight(height, \"남자\")))\n"
      ]
    }
  ]
}
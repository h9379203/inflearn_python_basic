{
  "nbformat": 4,
  "nbformat_minor": 0,
  "metadata": {
    "colab": {
      "name": "class5.ipynb",
      "provenance": [],
      "authorship_tag": "ABX9TyPjk56DUMmsiNAMnAbdzdvY",
      "include_colab_link": true
    },
    "kernelspec": {
      "name": "python3",
      "display_name": "Python 3"
    },
    "language_info": {
      "name": "python"
    }
  },
  "cells": [
    {
      "cell_type": "markdown",
      "metadata": {
        "id": "view-in-github",
        "colab_type": "text"
      },
      "source": [
        "<a href=\"https://colab.research.google.com/github/h9379203/inflearn_python_basic/blob/main/class5.ipynb\" target=\"_parent\"><img src=\"https://colab.research.google.com/assets/colab-badge.svg\" alt=\"Open In Colab\"/></a>"
      ]
    },
    {
      "cell_type": "markdown",
      "source": [
        "# Quiz)\n",
        "\n",
        "당신은 Cocoa 서비스를 이용하는 택시 기사님입니다. <br>\n",
        "5명의 승객과 매칭 기회가 있을 때, 총 탑승 승객 수를 구하는 프로그램을 작성하시오.<br>\n",
        "<br>\n",
        " - 조건1 : 승객별 운행 소요 시간은 5분~50분 사이의 난수로 정해집니다.\n",
        " - 조건2 : 당신은 소요 시간 5분~15분 사이의 승객만 매칭해야 합니다.\n",
        "<br>\n",
        "\n",
        "### 출력문 예제\n",
        "\n",
        "  [O]  1번째 손님 (소요시간 : 15분) <br>\n",
        "  [ ]  2번째 손님 (소요시간 : 50분) <br>\n",
        "  [O]  3번째 손님 (소요시간 : 5분) <br>\n",
        "  ....<br>\n",
        "  [ ] 50번째 손님 (소요시간 : 16분) <br>\n",
        "<br>\n",
        "  총 탑승 승객 : 2분\n"
      ],
      "metadata": {
        "id": "sSEuxkfhlgzY"
      }
    },
    {
      "cell_type": "code",
      "execution_count": 11,
      "metadata": {
        "colab": {
          "base_uri": "https://localhost:8080/"
        },
        "id": "84GkM8FBvVNp",
        "outputId": "5258d8c7-9907-4e5c-a46b-03d0faa2a4f5"
      },
      "outputs": [
        {
          "output_type": "stream",
          "name": "stdout",
          "text": [
            "[ ] 1번째 손님 (소요시간 : 39분)\n",
            "[O] 2번째 손님 (소요시간 : 15분)\n",
            "[ ] 3번째 손님 (소요시간 : 35분)\n",
            "[ ] 4번째 손님 (소요시간 : 31분)\n",
            "[ ] 5번째 손님 (소요시간 : 45분)\n",
            "[ ] 6번째 손님 (소요시간 : 45분)\n",
            "[O] 7번째 손님 (소요시간 : 7분)\n",
            "[O] 8번째 손님 (소요시간 : 6분)\n",
            "[ ] 9번째 손님 (소요시간 : 44분)\n",
            "[ ] 10번째 손님 (소요시간 : 40분)\n",
            "[ ] 11번째 손님 (소요시간 : 36분)\n",
            "[O] 12번째 손님 (소요시간 : 7분)\n",
            "[ ] 13번째 손님 (소요시간 : 41분)\n",
            "[ ] 14번째 손님 (소요시간 : 19분)\n",
            "[ ] 15번째 손님 (소요시간 : 28분)\n",
            "[ ] 16번째 손님 (소요시간 : 45분)\n",
            "[ ] 17번째 손님 (소요시간 : 20분)\n",
            "[ ] 18번째 손님 (소요시간 : 21분)\n",
            "[ ] 19번째 손님 (소요시간 : 28분)\n",
            "[ ] 20번째 손님 (소요시간 : 17분)\n",
            "[ ] 21번째 손님 (소요시간 : 46분)\n",
            "[ ] 22번째 손님 (소요시간 : 18분)\n",
            "[O] 23번째 손님 (소요시간 : 15분)\n",
            "[ ] 24번째 손님 (소요시간 : 39분)\n",
            "[O] 25번째 손님 (소요시간 : 9분)\n",
            "[O] 26번째 손님 (소요시간 : 11분)\n",
            "[ ] 27번째 손님 (소요시간 : 34분)\n",
            "[ ] 28번째 손님 (소요시간 : 46분)\n",
            "[ ] 29번째 손님 (소요시간 : 18분)\n",
            "[ ] 30번째 손님 (소요시간 : 24분)\n",
            "[ ] 31번째 손님 (소요시간 : 17분)\n",
            "[ ] 32번째 손님 (소요시간 : 46분)\n",
            "[ ] 33번째 손님 (소요시간 : 17분)\n",
            "[O] 34번째 손님 (소요시간 : 12분)\n",
            "[ ] 35번째 손님 (소요시간 : 29분)\n",
            "[O] 36번째 손님 (소요시간 : 7분)\n",
            "[O] 37번째 손님 (소요시간 : 5분)\n",
            "[ ] 38번째 손님 (소요시간 : 18분)\n",
            "[ ] 39번째 손님 (소요시간 : 36분)\n",
            "[ ] 40번째 손님 (소요시간 : 40분)\n",
            "[ ] 41번째 손님 (소요시간 : 44분)\n",
            "[ ] 42번째 손님 (소요시간 : 31분)\n",
            "[ ] 43번째 손님 (소요시간 : 43분)\n",
            "[ ] 44번째 손님 (소요시간 : 31분)\n",
            "[O] 45번째 손님 (소요시간 : 6분)\n",
            "[ ] 46번째 손님 (소요시간 : 34분)\n",
            "[ ] 47번째 손님 (소요시간 : 49분)\n",
            "[ ] 48번째 손님 (소요시간 : 50분)\n",
            "[ ] 49번째 손님 (소요시간 : 21분)\n",
            "[ ] 50번째 손님 (소요시간 : 31분)\n",
            "총 찹승 승객 : 11 분\n"
          ]
        }
      ],
      "source": [
        "from random import *\n",
        "\n",
        "ride_passenger = 0\n",
        "# passenger = list(range(1, 51))\n",
        "# print(passenger)\n",
        "\n",
        "for num in range(1,51):\n",
        "  match = \"O\"\n",
        "  time = randrange(5, 51)\n",
        "  if 5 <= time <= 15:\n",
        "    ride_passenger+=1\n",
        "  else:\n",
        "    match = \" \"\n",
        "  print(\"[{0}] {1}번째 손님 (소요시간 : {2}분)\".format(match, num, time))\n",
        "\n",
        "print(\"총 탑승 승객 : {0} 분\".format(ride_passenger))\n"
      ]
    }
  ]
}
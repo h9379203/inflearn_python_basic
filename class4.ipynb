{
  "nbformat": 4,
  "nbformat_minor": 0,
  "metadata": {
    "colab": {
      "name": "class4.ipynb",
      "provenance": [],
      "authorship_tag": "ABX9TyP0kMX9CbyX2ouNmhKx9j09",
      "include_colab_link": true
    },
    "kernelspec": {
      "name": "python3",
      "display_name": "Python 3"
    },
    "language_info": {
      "name": "python"
    }
  },
  "cells": [
    {
      "cell_type": "markdown",
      "metadata": {
        "id": "view-in-github",
        "colab_type": "text"
      },
      "source": [
        "<a href=\"https://colab.research.google.com/github/h9379203/inflearn_python_basic/blob/main/class4.ipynb\" target=\"_parent\"><img src=\"https://colab.research.google.com/assets/colab-badge.svg\" alt=\"Open In Colab\"/></a>"
      ]
    },
    {
      "cell_type": "markdown",
      "source": [
        "# Quiz)\n",
        " 당신의 학교에서는 파이썬 코딩 대회를 주최합니다.\n",
        " 참석률을 높이기 위해 댓글 이벤트를 진행하기로 하였습니다.\n",
        " 댓글 작성자들 중에 추첨을 통해 1명은 치킨, 3명은 커피 쿠폰을 받게됩니다.\n",
        " 추첨 프로그램을 작성하시오.\n",
        "\n",
        " - 조건1: 편의상 댓글은 20명이 작성하였고 아이디는 1~20 이라고 가정\n",
        " - 조건2: 댓글 내용과 상관 없이 무작위로 추첨하되 중복 불가\n",
        " - 조건3: random 모듈의 shuffle 과 sample을 활용\n",
        "\n",
        "### 출력 예제\n",
        " -- 당첨자 발표 --\n",
        "  - 치킨 당첨자 : 1\n",
        "  - 커피 당첨자 : [2, 3, 4]\n",
        "\n",
        "### 활용 예제\n",
        "\n",
        "```\n",
        "from random import *\n",
        "lst = [1, 2, 3, 4, 5]\n",
        "print(lst)\n",
        "shuffle(lst)\n",
        "print(lst)\n",
        "print(sample(lst, 1))\n",
        "\n",
        "```\n"
      ],
      "metadata": {
        "id": "LfRotFhxoBke"
      }
    },
    {
      "cell_type": "code",
      "execution_count": 22,
      "metadata": {
        "colab": {
          "base_uri": "https://localhost:8080/"
        },
        "id": "wEacKwplFaiE",
        "outputId": "7d8584ad-2fbc-4cb3-e54d-b21950f980e0"
      },
      "outputs": [
        {
          "output_type": "stream",
          "name": "stdout",
          "text": [
            "[1, 2, 3, 4, 5, 6, 7, 8, 9, 10, 11, 12, 13, 14, 15, 16, 17, 18, 19, 20]\n",
            "[9, 1, 7, 5, 4, 18, 3, 11, 10, 15, 20, 19, 12, 6, 2, 8, 14, 16, 17, 13]\n",
            "-- 당첨자 발표 --\n",
            "치킨 당첨자 : 12\n",
            "커피 당첨자 : [1, 19, 5]\n",
            "-- 축하합니다. --\n"
          ]
        }
      ],
      "source": [
        "from random import *\n",
        "#lst = [1, 2, 3, 4, 5]\n",
        "#print(lst)\n",
        "#shuffle(lst)\n",
        "#print(lst)\n",
        "#print(sample(lst, 1))\n",
        "\n",
        "\n",
        "# id = [1, 2, 3, 4, 5, 6, 7, 8, 9, 10, 11, 12, 13, 14, 15, 16, 17, 18, 19, 20]\n",
        "id = list(range(1, 21))\n",
        "print(id)\n",
        "shuffle(id)\n",
        "print(id)\n",
        "chck = sample(id, 1)\n",
        "# print(chck[0])\n",
        "id.remove(chck[0])\n",
        "coff = sample(id, 3)\n",
        "\n",
        "print(\"-- 당첨자 발표 --\")\n",
        "print(\"치킨 당첨자 : {0}\".format(chck[0]))\n",
        "print(\"커피 당첨자 : {0}\".format(coff[:]))\n",
        "print(\"-- 축하합니다. --\")\n"
      ]
    }
  ]
}
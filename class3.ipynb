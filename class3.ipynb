{
  "nbformat": 4,
  "nbformat_minor": 0,
  "metadata": {
    "colab": {
      "name": "class3.ipynb",
      "provenance": [],
      "authorship_tag": "ABX9TyN1z0irPiIm7FF92NBBc7Cj",
      "include_colab_link": true
    },
    "kernelspec": {
      "name": "python3",
      "display_name": "Python 3"
    },
    "language_info": {
      "name": "python"
    }
  },
  "cells": [
    {
      "cell_type": "markdown",
      "metadata": {
        "id": "view-in-github",
        "colab_type": "text"
      },
      "source": [
        "<a href=\"https://colab.research.google.com/github/h9379203/inflearn_python_basic/blob/main/class3.ipynb\" target=\"_parent\"><img src=\"https://colab.research.google.com/assets/colab-badge.svg\" alt=\"Open In Colab\"/></a>"
      ]
    },
    {
      "cell_type": "markdown",
      "source": [
        "# Quiz) 사이트별로 비밀번호를 만들어 주는 프로그램을 작성하시오\n",
        "\n",
        "예) http://naver.com\n",
        "\n",
        " - 규칙1 : http:// 부분은 제외 => naver.com\n",
        " - 규칙2 : 처음 만나는 점(.) 이후 부분은 제외 => naver\n",
        " - 규칙3 : 남은 글자 중 처음 세자리 + 글자 갯수 + 글자 내 'e' 갯수 + \"!\"로 구성\n",
        "    - 결과 : nav51!"
      ],
      "metadata": {
        "id": "aUXLhooRrx6K"
      }
    },
    {
      "cell_type": "code",
      "execution_count": 12,
      "metadata": {
        "colab": {
          "base_uri": "https://localhost:8080/"
        },
        "id": "jsQ7_8IgrvMu",
        "outputId": "2ffc3821-7e68-455f-8394-1fac1302f8db"
      },
      "outputs": [
        {
          "output_type": "stream",
          "name": "stdout",
          "text": [
            "http://naver.com의 비밀번호는 nav51! 입니다. \n"
          ]
        }
      ],
      "source": [
        "siteFull = \"http://naver.com\"\n",
        "# print(siteFull.find(\".\"))\n",
        "# site = siteFull[7:siteFull.find(\".\")]\n",
        "site = siteFull.replace(\"http://\", \"\")\n",
        "site = site[:site.find(\".\")]\n",
        "# print(site.count('e'))\n",
        "password = site[:3] + str(len(site)) + str(site.count('e')) + \"!\"\n",
        "\n",
        "print(\"{0}의 비밀번호는 {1} 입니다. \".format(siteFull, password))"
      ]
    }
  ]
}
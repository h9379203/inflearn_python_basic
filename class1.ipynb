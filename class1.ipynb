{
  "nbformat": 4,
  "nbformat_minor": 0,
  "metadata": {
    "colab": {
      "name": "class1.ipynb",
      "provenance": [],
      "authorship_tag": "ABX9TyNvjnZnQJLfux4ZI7JzEHqk",
      "include_colab_link": true
    },
    "kernelspec": {
      "name": "python3",
      "display_name": "Python 3"
    },
    "language_info": {
      "name": "python"
    }
  },
  "cells": [
    {
      "cell_type": "markdown",
      "metadata": {
        "id": "view-in-github",
        "colab_type": "text"
      },
      "source": [
        "<a href=\"https://colab.research.google.com/github/h9379203/inflearn_python_basic/blob/main/class1.ipynb\" target=\"_parent\"><img src=\"https://colab.research.google.com/assets/colab-badge.svg\" alt=\"Open In Colab\"/></a>"
      ]
    },
    {
      "cell_type": "markdown",
      "source": [
        "# Quiz) 변수를 이용해 문장을 출력\n",
        " - 변수명 : station\n",
        " - 변수값 : \"사당\", \"신도림\", \"인천공항\"\n",
        " - 출력문장 : XX행 열차가 들어오고 있습니다."
      ],
      "metadata": {
        "id": "r5SIATW9v3hb"
      }
    },
    {
      "cell_type": "code",
      "execution_count": 4,
      "metadata": {
        "colab": {
          "base_uri": "https://localhost:8080/"
        },
        "id": "YHziUTviu9d8",
        "outputId": "ea9b1bb0-b902-47b7-9483-5d571930ebc2"
      },
      "outputs": [
        {
          "output_type": "stream",
          "name": "stdout",
          "text": [
            "사당행 열차가 들어오고 있습니다.\n",
            "신도림행 열차가 들어오고 있습니다.\n",
            "인천공항행 열차가 들어오고 있습니다.\n"
          ]
        }
      ],
      "source": [
        "#station = input()\n",
        "\n",
        "station = \"사당\"\n",
        "\n",
        "print(station + \"행 열차가 들어오고 있습니다.\")\n",
        "\n",
        "station = \"신도림\"\n",
        "\n",
        "print(station + \"행 열차가 들어오고 있습니다.\")\n",
        "\n",
        "station = \"인천공항\"\n",
        "\n",
        "print(station + \"행 열차가 들어오고 있습니다.\")"
      ]
    }
  ]
}
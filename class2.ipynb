{
  "nbformat": 4,
  "nbformat_minor": 0,
  "metadata": {
    "colab": {
      "name": "class2.ipynb",
      "provenance": [],
      "authorship_tag": "ABX9TyNkWrZr4OjdXm1254peLLYf",
      "include_colab_link": true
    },
    "kernelspec": {
      "name": "python3",
      "display_name": "Python 3"
    },
    "language_info": {
      "name": "python"
    }
  },
  "cells": [
    {
      "cell_type": "markdown",
      "metadata": {
        "id": "view-in-github",
        "colab_type": "text"
      },
      "source": [
        "<a href=\"https://colab.research.google.com/github/h9379203/inflearn_python_basic/blob/main/class2.ipynb\" target=\"_parent\"><img src=\"https://colab.research.google.com/assets/colab-badge.svg\" alt=\"Open In Colab\"/></a>"
      ]
    },
    {
      "cell_type": "markdown",
      "source": [
        "# Quiz) \n",
        "\n",
        "당신은 최근에 코딩 스터디 모임을 새로 만들었습니다.\n",
        "\n",
        "월 4회 스터디를 하는데 3번은 온라인으로 하고 1번은 오프라인으로 하기로 했습니다.\n",
        "\n",
        "아래 조건에 맞는 오프라인 모임 날짜를 정해주는 프로그램을 작성하시오.\n",
        "\n",
        " - 조건1 : 랜덤으로 날짜를 뽑아야 함\n",
        " - 조건2 : 월별 날짜는 다름을 감안하여 최소 일수인 28 이내로 정함\n",
        " - 조건3 : 매월 1~3일은 스터디 준비를 해야 하므로 제외\n",
        "\n",
        "###(출력문 예제)\n",
        "오프라인 스터디 모임 날짜는 매월 x 일로 선정되었습니다."
      ],
      "metadata": {
        "id": "3ZYznP5b--0x"
      }
    },
    {
      "cell_type": "code",
      "execution_count": 8,
      "metadata": {
        "colab": {
          "base_uri": "https://localhost:8080/"
        },
        "id": "p7x7eXXU-6QQ",
        "outputId": "fe7e99af-293a-4284-8ab8-85a4f5c4fb78"
      },
      "outputs": [
        {
          "output_type": "stream",
          "name": "stdout",
          "text": [
            "오프라인 스터디 모임 날짜는 매월 7 일로 선정되었습니다.\n"
          ]
        }
      ],
      "source": [
        "from random import *\n",
        "#랜덤으로 날짜를 뽑는다.단, 최소 일수인 28이내로, 1~3일은 준비기간으로 제외\n",
        "print(\"오프라인 스터디 모임 날짜는 매월\", randrange(4, 29), \"일로 선정되었습니다.\")"
      ]
    }
  ]
}